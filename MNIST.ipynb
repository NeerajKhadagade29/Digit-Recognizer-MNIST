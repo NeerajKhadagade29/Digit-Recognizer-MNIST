{
 "cells": [
  {
   "cell_type": "markdown",
   "metadata": {},
   "source": [
    "# <center> Digit Recognizer - MNIST Dataset </center>\n",
    "___"
   ]
  },
  {
   "cell_type": "markdown",
   "metadata": {},
   "source": [
    "Computer vision is a very important field in data science. From reading of alphabets and numbers to self-driving cars, the computer vision projects have a wide variety of applications.\n",
    "\n",
    "One of the initial projects of computer vision was <i>Digit Recognition</i> and the dataset used was MNIST (\"Modified National Institute of Standards and Technology\") dataset. This is like the \"Hello World!\" of the computer vision. \n",
    "\n",
    "This is the classic dataset that has 60,000 handwritten images served for training and validation purpose and 10,000 images for testing purpose. Since its inception in 1999, this has served as the benchmark of classification problems.\n",
    "\n",
    "I chose <b>Python</b> my preferred language."
   ]
  },
  {
   "cell_type": "markdown",
   "metadata": {
    "colab_type": "text",
    "id": "5_P3mJXHJfjw"
   },
   "source": [
    "## Importing the relevant libraries"
   ]
  },
  {
   "cell_type": "code",
   "execution_count": 1,
   "metadata": {
    "colab": {
     "base_uri": "https://localhost:8080/",
     "height": 81
    },
    "colab_type": "code",
    "id": "V5dwFfgEIwk6",
    "outputId": "2df82e8e-3a54-4385-b5b3-8de3523a177f"
   },
   "outputs": [
    {
     "name": "stderr",
     "output_type": "stream",
     "text": [
      "Using TensorFlow backend.\n"
     ]
    },
    {
     "data": {
      "text/html": [
       "<p style=\"color: red;\">\n",
       "The default version of TensorFlow in Colab will soon switch to TensorFlow 2.x.<br>\n",
       "We recommend you <a href=\"https://www.tensorflow.org/guide/migrate\" target=\"_blank\">upgrade</a> now \n",
       "or ensure your notebook will continue to use TensorFlow 1.x via the <code>%tensorflow_version 1.x</code> magic:\n",
       "<a href=\"https://colab.research.google.com/notebooks/tensorflow_version.ipynb\" target=\"_blank\">more info</a>.</p>\n"
      ],
      "text/plain": [
       "<IPython.core.display.HTML object>"
      ]
     },
     "metadata": {
      "tags": []
     },
     "output_type": "display_data"
    }
   ],
   "source": [
    "from keras.models import Sequential\n",
    "from keras.layers import Dense, Flatten, Dropout, Conv2D, MaxPooling2D, BatchNormalization\n",
    "from sklearn.metrics import accuracy_score"
   ]
  },
  {
   "cell_type": "markdown",
   "metadata": {
    "colab_type": "text",
    "id": "CPreaphQJoSW"
   },
   "source": [
    "## Importing the **MNIST** dataset from _keras.datasets_"
   ]
  },
  {
   "cell_type": "code",
   "execution_count": 2,
   "metadata": {
    "colab": {
     "base_uri": "https://localhost:8080/",
     "height": 52
    },
    "colab_type": "code",
    "id": "w7yX77umJQ4W",
    "outputId": "ca4e8cda-db1d-4c12-9d12-9b9a6d57a1d9"
   },
   "outputs": [
    {
     "name": "stdout",
     "output_type": "stream",
     "text": [
      "Downloading data from https://s3.amazonaws.com/img-datasets/mnist.npz\n",
      "11493376/11490434 [==============================] - 0s 0us/step\n"
     ]
    }
   ],
   "source": [
    "from keras.datasets import mnist\n",
    "import numpy as np\n",
    "import pandas as pd\n",
    "\n",
    "(x_train, y_train), (x_test, y_test) = mnist.load_data()"
   ]
  },
  {
   "cell_type": "markdown",
   "metadata": {
    "colab_type": "text",
    "id": "C2ul3tHTKEWJ"
   },
   "source": [
    "## Reshaping input data\n",
    "It is recommened to declare the the depth of the image data, irrespective of MNIST data having the default depth of 1."
   ]
  },
  {
   "cell_type": "code",
   "execution_count": 0,
   "metadata": {
    "colab": {},
    "colab_type": "code",
    "id": "LII4ZH2JKfty"
   },
   "outputs": [],
   "source": [
    "x_train = x_train.reshape(x_train.shape[0], x_train.shape[1], x_train.shape[2], 1)\n",
    "x_test = x_test.reshape(x_test.shape[0], x_test.shape[1], x_test.shape[2], 1)"
   ]
  },
  {
   "cell_type": "code",
   "execution_count": 4,
   "metadata": {
    "colab": {
     "base_uri": "https://localhost:8080/",
     "height": 34
    },
    "colab_type": "code",
    "id": "TcCTwUu_KhHq",
    "outputId": "ba836057-f363-4c71-bcfd-3ebe23db0cde"
   },
   "outputs": [
    {
     "data": {
      "text/plain": [
       "((60000, 28, 28, 1), (10000, 28, 28, 1))"
      ]
     },
     "execution_count": 4,
     "metadata": {
      "tags": []
     },
     "output_type": "execute_result"
    }
   ],
   "source": [
    "x_train.shape, x_test.shape"
   ]
  },
  {
   "cell_type": "markdown",
   "metadata": {
    "colab_type": "text",
    "id": "CCQ5otIaKjKl"
   },
   "source": [
    "## Normalizing the input data in the range [0,1]."
   ]
  },
  {
   "cell_type": "code",
   "execution_count": 0,
   "metadata": {
    "colab": {},
    "colab_type": "code",
    "id": "sLX_2ciNKs2E"
   },
   "outputs": [],
   "source": [
    "x_train = x_train.astype('float')/255\n",
    "x_test = x_test.astype('float')/255"
   ]
  },
  {
   "cell_type": "markdown",
   "metadata": {
    "colab_type": "text",
    "id": "1iiBqffJK4TH"
   },
   "source": [
    "Since there are 10 digits [0-9], there are, hence, 10 different classes (1 class for each digit).\n",
    "\n",
    "In the MNIST dataset, the are one-dimensional array. Hence, we convert this into 10-dimensional class matrix."
   ]
  },
  {
   "cell_type": "code",
   "execution_count": 0,
   "metadata": {
    "colab": {},
    "colab_type": "code",
    "id": "mN5pb2fMKu8_"
   },
   "outputs": [],
   "source": [
    "from keras.utils import np_utils\n",
    "\n",
    "y_train_cat = np_utils.to_categorical(y_train, num_classes=10)\n",
    "y_test_cat = np_utils.to_categorical(y_test, num_classes=10)"
   ]
  },
  {
   "cell_type": "code",
   "execution_count": 7,
   "metadata": {
    "colab": {
     "base_uri": "https://localhost:8080/",
     "height": 247
    },
    "colab_type": "code",
    "id": "yfluDC4ULhZ-",
    "outputId": "4382d66e-9855-4921-99f4-46037173b8e9"
   },
   "outputs": [
    {
     "name": "stdout",
     "output_type": "stream",
     "text": [
      "[[0. 0. 0. ... 0. 0. 0.]\n",
      " [1. 0. 0. ... 0. 0. 0.]\n",
      " [0. 0. 0. ... 0. 0. 0.]\n",
      " ...\n",
      " [0. 0. 0. ... 0. 0. 0.]\n",
      " [0. 0. 0. ... 0. 0. 0.]\n",
      " [0. 0. 0. ... 0. 1. 0.]] [[0. 0. 0. ... 1. 0. 0.]\n",
      " [0. 0. 1. ... 0. 0. 0.]\n",
      " [0. 1. 0. ... 0. 0. 0.]\n",
      " ...\n",
      " [0. 0. 0. ... 0. 0. 0.]\n",
      " [0. 0. 0. ... 0. 0. 0.]\n",
      " [0. 0. 0. ... 0. 0. 0.]]\n"
     ]
    }
   ],
   "source": [
    "print(y_train_cat, y_test_cat)"
   ]
  },
  {
   "cell_type": "markdown",
   "metadata": {
    "colab_type": "text",
    "id": "y8hKLgCeLoPE"
   },
   "source": [
    "## Creating a neural network\n",
    "\n",
    "1. Sequential\n",
    "2. 2D Convolution layer\n",
    "3. Dropout layer\n",
    "4. Flatten\n",
    "5. Dense layers\n",
    "6. Final Dense (output) layer"
   ]
  },
  {
   "cell_type": "code",
   "execution_count": 0,
   "metadata": {
    "colab": {},
    "colab_type": "code",
    "id": "TvHhRr-ALjHM"
   },
   "outputs": [],
   "source": [
    "model = Sequential()\n",
    "model.add(Conv2D(filters = 64, kernel_size = 12, input_shape = (28,28,1),  \n",
    "                 kernel_initializer = 'glorot_normal', activation = 'relu'))\n",
    "model.add(BatchNormalization())\n",
    "model.add(Dropout(0.25))\n",
    "model.add(Conv2D(filters = 32, kernel_size = 8, activation = 'relu'))\n",
    "model.add(Flatten())\n",
    "model.add(Dense(32, activation = 'relu'))\n",
    "model.add(Dense(10, activation = 'softmax')) #Final Output Layer"
   ]
  },
  {
   "cell_type": "code",
   "execution_count": 19,
   "metadata": {
    "colab": {
     "base_uri": "https://localhost:8080/",
     "height": 407
    },
    "colab_type": "code",
    "id": "FvVDvIZ8NSTE",
    "outputId": "05346cc7-154f-47e4-d356-ce51ca7f8e72"
   },
   "outputs": [
    {
     "name": "stdout",
     "output_type": "stream",
     "text": [
      "Model: \"sequential_4\"\n",
      "_________________________________________________________________\n",
      "Layer (type)                 Output Shape              Param #   \n",
      "=================================================================\n",
      "conv2d_7 (Conv2D)            (None, 17, 17, 64)        9280      \n",
      "_________________________________________________________________\n",
      "batch_normalization_4 (Batch (None, 17, 17, 64)        256       \n",
      "_________________________________________________________________\n",
      "dropout_4 (Dropout)          (None, 17, 17, 64)        0         \n",
      "_________________________________________________________________\n",
      "conv2d_8 (Conv2D)            (None, 10, 10, 32)        131104    \n",
      "_________________________________________________________________\n",
      "flatten_4 (Flatten)          (None, 3200)              0         \n",
      "_________________________________________________________________\n",
      "dense_7 (Dense)              (None, 32)                102432    \n",
      "_________________________________________________________________\n",
      "dense_8 (Dense)              (None, 10)                330       \n",
      "=================================================================\n",
      "Total params: 243,402\n",
      "Trainable params: 243,274\n",
      "Non-trainable params: 128\n",
      "_________________________________________________________________\n"
     ]
    }
   ],
   "source": [
    "model.summary()"
   ]
  },
  {
   "cell_type": "code",
   "execution_count": 0,
   "metadata": {
    "colab": {},
    "colab_type": "code",
    "id": "AD_UrndWNT-6"
   },
   "outputs": [],
   "source": [
    "model.compile(loss='categorical_crossentropy', optimizer='adam', metrics=['accuracy'])"
   ]
  },
  {
   "cell_type": "code",
   "execution_count": 23,
   "metadata": {
    "colab": {
     "base_uri": "https://localhost:8080/",
     "height": 390
    },
    "colab_type": "code",
    "id": "IMWCKleUPLV3",
    "outputId": "60a21189-cef3-4a0e-92aa-83f9bd917bb0"
   },
   "outputs": [
    {
     "name": "stdout",
     "output_type": "stream",
     "text": [
      "Epoch 1/10\n",
      "60000/60000 [==============================] - 281s 5ms/step - loss: 0.1202 - acc: 0.9668\n",
      "Epoch 2/10\n",
      "60000/60000 [==============================] - 281s 5ms/step - loss: 0.0701 - acc: 0.9801\n",
      "Epoch 3/10\n",
      "60000/60000 [==============================] - 283s 5ms/step - loss: 0.0521 - acc: 0.9851\n",
      "Epoch 4/10\n",
      "60000/60000 [==============================] - 284s 5ms/step - loss: 0.0446 - acc: 0.9872\n",
      "Epoch 5/10\n",
      "60000/60000 [==============================] - 282s 5ms/step - loss: 0.0381 - acc: 0.9887\n",
      "Epoch 6/10\n",
      "60000/60000 [==============================] - 282s 5ms/step - loss: 0.0354 - acc: 0.9897\n",
      "Epoch 7/10\n",
      "60000/60000 [==============================] - 281s 5ms/step - loss: 0.0299 - acc: 0.9913\n",
      "Epoch 8/10\n",
      "60000/60000 [==============================] - 282s 5ms/step - loss: 0.0271 - acc: 0.9925\n",
      "Epoch 9/10\n",
      "60000/60000 [==============================] - 283s 5ms/step - loss: 0.0261 - acc: 0.9925\n",
      "Epoch 10/10\n",
      "60000/60000 [==============================] - 282s 5ms/step - loss: 0.0218 - acc: 0.9936\n"
     ]
    },
    {
     "data": {
      "text/plain": [
       "<keras.callbacks.History at 0x7f3ab6fd7470>"
      ]
     },
     "execution_count": 23,
     "metadata": {
      "tags": []
     },
     "output_type": "execute_result"
    }
   ],
   "source": [
    "model.fit(x_train, y_train_cat, batch_size = 32, epochs = 10)"
   ]
  },
  {
   "cell_type": "code",
   "execution_count": 24,
   "metadata": {
    "colab": {
     "base_uri": "https://localhost:8080/",
     "height": 52
    },
    "colab_type": "code",
    "id": "anLIVu3kPMnC",
    "outputId": "959474b9-9c31-4e64-a3b5-3094b3a22caa"
   },
   "outputs": [
    {
     "name": "stdout",
     "output_type": "stream",
     "text": [
      "10000/10000 [==============================] - 10s 1ms/step\n"
     ]
    },
    {
     "data": {
      "text/plain": [
       "[0.05102009525202984, 0.9871]"
      ]
     },
     "execution_count": 24,
     "metadata": {
      "tags": []
     },
     "output_type": "execute_result"
    }
   ],
   "source": [
    "model.evaluate(x_test, y_test_cat)"
   ]
  },
  {
   "cell_type": "code",
   "execution_count": 25,
   "metadata": {
    "colab": {
     "base_uri": "https://localhost:8080/",
     "height": 34
    },
    "colab_type": "code",
    "id": "x9qCUY7lPnyT",
    "outputId": "eb1209a2-19a4-4dc8-eefb-8f43928f4403"
   },
   "outputs": [
    {
     "data": {
      "text/plain": [
       "0.9871"
      ]
     },
     "execution_count": 25,
     "metadata": {
      "tags": []
     },
     "output_type": "execute_result"
    }
   ],
   "source": [
    "pred_class = model.predict_classes(x_test)\n",
    "accuracy_score(y_true = y_test, y_pred = pred_class)"
   ]
  }
 ],
 "metadata": {
  "colab": {
   "name": "Kaggle - DNN on MNIST.ipynb",
   "provenance": []
  },
  "kernelspec": {
   "display_name": "Python 3",
   "language": "python",
   "name": "python3"
  },
  "language_info": {
   "codemirror_mode": {
    "name": "ipython",
    "version": 3
   },
   "file_extension": ".py",
   "mimetype": "text/x-python",
   "name": "python",
   "nbconvert_exporter": "python",
   "pygments_lexer": "ipython3",
   "version": "3.7.3"
  }
 },
 "nbformat": 4,
 "nbformat_minor": 1
}
